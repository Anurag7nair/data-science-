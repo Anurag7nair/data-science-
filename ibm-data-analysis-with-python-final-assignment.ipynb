{
 "cells": [
  {
   "cell_type": "markdown",
   "id": "cbb28ea7",
   "metadata": {
    "jp-MarkdownHeadingCollapsed": true,
    "papermill": {
     "duration": 0.021625,
     "end_time": "2024-05-15T08:58:47.037489",
     "exception": false,
     "start_time": "2024-05-15T08:58:47.015864",
     "status": "completed"
    },
    "tags": []
   },
   "source": [
    "<p style=\"text-align:center\">\n",
    "    <a href=\"https://skills.network/?utm_medium=Exinfluencer&utm_source=Exinfluencer&utm_content=000026UJ&utm_term=10006555&utm_id=NA-SkillsNetwork-Channel-SkillsNetworkCoursesIBMDeveloperSkillsNetworkML0101ENSkillsNetwork20718538-2022-01-01\" target=\"_blank\">\n",
    "    <img src=\"https://cf-courses-data.s3.us.cloud-object-storage.appdomain.cloud/assets/logos/SN_web_lightmode.png\" width=\"300\" alt=\"Skills Network Logo\">\n",
    "    </a>\n",
    "</p>\n",
    "\n",
    "<h1 align=\"center\"><font size=\"5\">Final Project: House Sales in King County, USA </font></h1>\n"
   ]
  },
  {
   "cell_type": "markdown",
   "id": "8388a9f8",
   "metadata": {
    "papermill": {
     "duration": 0.017001,
     "end_time": "2024-05-15T08:58:47.072246",
     "exception": false,
     "start_time": "2024-05-15T08:58:47.055245",
     "status": "completed"
    },
    "tags": []
   },
   "source": [
    "<h2>Table of Contents</h2>\n",
    "<div class=\"alert alert-block alert-info\" style=\"margin-top: 20px\">\n",
    "    <ul>\n",
    "    <li><a href=\"#Instructions\">Instructions</a></li>\n",
    "    <li><a href=\"#About-the-Dataset\">About the Dataset</a></li>\n",
    "    <li><a href=\"#Module-1:-Importing-Data-Sets\">Module 1: Importing Data </a></li>\n",
    "    <li><a href=\"#Module-2:-Data-Wrangling\">Module 2: Data Wrangling</a> </li>\n",
    "    <li><a href=\"#Module-3:-Exploratory-Data-Analysis\">Module 3: Exploratory Data Analysis</a></li>\n",
    "    <li><a href=\"#Module-4:-Model-Development\">Module 4: Model Development</a></li>\n",
    "    <li><a href=\"#Module-5:-Model-Evaluation-and-Refinement\">Module 5: Model Evaluation and Refinement</a></li>\n",
    "</a></li>\n",
    "</div>\n",
    "<p>Estimated Time Needed: <strong>75 min</strong></p>\n",
    "</div>\n",
    "\n",
    "<hr>\n"
   ]
  },
  {
   "cell_type": "markdown",
   "id": "fe8411bb",
   "metadata": {
    "papermill": {
     "duration": 0.018001,
     "end_time": "2024-05-15T08:58:47.107427",
     "exception": false,
     "start_time": "2024-05-15T08:58:47.089426",
     "status": "completed"
    },
    "tags": []
   },
   "source": [
    "# Instructions\n"
   ]
  },
  {
   "cell_type": "markdown",
   "id": "bcd7be2f",
   "metadata": {
    "papermill": {
     "duration": 0.01694,
     "end_time": "2024-05-15T08:58:47.141837",
     "exception": false,
     "start_time": "2024-05-15T08:58:47.124897",
     "status": "completed"
    },
    "tags": []
   },
   "source": [
    "In this assignment, you are a Data Analyst working at a Real Estate Investment Trust. The Trust would like to start investing in Residential real estate. You are tasked with determining the market price of a house given a set of features. You will analyze and predict housing prices using attributes or features such as square footage, number of bedrooms, number of floors, and so on. This is a template notebook; your job is to complete the ten questions. Some hints to the questions are given.\n",
    "\n",
    "As you are completing this notebook, take and save the **screenshots** of the final outputs of your solutions (e.g., final charts, tables, calculation results etc.). They will need to be shared in the following Peer Review section of the Final Project module.\n"
   ]
  },
  {
   "cell_type": "markdown",
   "id": "ce14fd5a",
   "metadata": {
    "papermill": {
     "duration": 0.018812,
     "end_time": "2024-05-15T08:58:47.177960",
     "exception": false,
     "start_time": "2024-05-15T08:58:47.159148",
     "status": "completed"
    },
    "tags": []
   },
   "source": [
    "# About the Dataset\n",
    "\n",
    "This dataset contains house sale prices for King County, which includes Seattle. It includes homes sold between May 2014 and May 2015. It was taken from [here](https://www.kaggle.com/harlfoxem/housesalesprediction?utm_medium=Exinfluencer&utm_source=Exinfluencer&utm_content=000026UJ&utm_term=10006555&utm_id=NA-SkillsNetwork-wwwcourseraorg-SkillsNetworkCoursesIBMDeveloperSkillsNetworkDA0101ENSkillsNetwork20235326-2022-01-01). It was also slightly modified for the purposes of this course. \n"
   ]
  },
  {
   "cell_type": "markdown",
   "id": "5be16e7e",
   "metadata": {
    "papermill": {
     "duration": 0.017252,
     "end_time": "2024-05-15T08:58:47.212664",
     "exception": false,
     "start_time": "2024-05-15T08:58:47.195412",
     "status": "completed"
    },
    "tags": []
   },
   "source": [
    "| Variable      | Description                                                                                                 |\n",
    "| ------------- | ----------------------------------------------------------------------------------------------------------- |\n",
    "| id            | A notation for a house                                                                                      |\n",
    "| date          | Date house was sold                                                                                         |\n",
    "| price         | Price is prediction target                                                                                  |\n",
    "| bedrooms      | Number of bedrooms                                                                                          |\n",
    "| bathrooms     | Number of bathrooms                                                                                         |\n",
    "| sqft_living   | Square footage of the home                                                                                  |\n",
    "| sqft_lot      | Square footage of the lot                                                                                   |\n",
    "| floors        | Total floors (levels) in house                                                                              |\n",
    "| waterfront    | House which has a view to a waterfront                                                                      |\n",
    "| view          | Has been viewed                                                                                             |\n",
    "| condition     | How good the condition is overall                                                                           |\n",
    "| grade         | overall grade given to the housing unit, based on King County grading system                                |\n",
    "| sqft_above    | Square footage of house apart from basement                                                                 |\n",
    "| sqft_basement | Square footage of the basement                                                                              |\n",
    "| yr_built      | Built Year                                                                                                  |\n",
    "| yr_renovated  | Year when house was renovated                                                                               |\n",
    "| zipcode       | Zip code                                                                                                    |\n",
    "| lat           | Latitude coordinate                                                                                         |\n",
    "| long          | Longitude coordinate                                                                                        |\n",
    "| sqft_living15 | Living room area in 2015(implies-- some renovations) This might or might not have affected the lotsize area |\n",
    "| sqft_lot15    | LotSize area in 2015(implies-- some renovations)                                                            |\n"
   ]
  },
  {
   "cell_type": "markdown",
   "id": "7bd97b3e",
   "metadata": {
    "papermill": {
     "duration": 0.017061,
     "end_time": "2024-05-15T08:58:47.247119",
     "exception": false,
     "start_time": "2024-05-15T08:58:47.230058",
     "status": "completed"
    },
    "tags": []
   },
   "source": [
    "## **Import the required libraries**\n"
   ]
  },
  {
   "cell_type": "code",
   "execution_count": 1,
   "id": "2a033186",
   "metadata": {
    "execution": {
     "iopub.execute_input": "2024-05-15T08:58:47.283363Z",
     "iopub.status.busy": "2024-05-15T08:58:47.282930Z",
     "iopub.status.idle": "2024-05-15T08:58:47.288840Z",
     "shell.execute_reply": "2024-05-15T08:58:47.287736Z"
    },
    "papermill": {
     "duration": 0.026718,
     "end_time": "2024-05-15T08:58:47.291205",
     "exception": false,
     "start_time": "2024-05-15T08:58:47.264487",
     "status": "completed"
    },
    "tags": []
   },
   "outputs": [],
   "source": [
    "# All Libraries required for this lab are listed below. The libraries pre-installed on Skills Network Labs are commented.\n",
    "#!mamba install -qy pandas==1.3.4 numpy==1.21.4 seaborn==0.9.0 matplotlib==3.5.0 scikit-learn==0.20.1\n",
    "# Note: If your environment doesn't support \"!mamba install\", use \"!pip install\"\n"
   ]
  },
  {
   "cell_type": "code",
   "execution_count": 2,
   "id": "37ff0a33",
   "metadata": {
    "execution": {
     "iopub.execute_input": "2024-05-15T08:58:47.328641Z",
     "iopub.status.busy": "2024-05-15T08:58:47.327488Z",
     "iopub.status.idle": "2024-05-15T08:58:47.340534Z",
     "shell.execute_reply": "2024-05-15T08:58:47.339624Z"
    },
    "papermill": {
     "duration": 0.034417,
     "end_time": "2024-05-15T08:58:47.343197",
     "exception": false,
     "start_time": "2024-05-15T08:58:47.308780",
     "status": "completed"
    },
    "tags": []
   },
   "outputs": [],
   "source": [
    "# Surpress warnings:\n",
    "def warn(*args, **kwargs):\n",
    "    pass\n",
    "import warnings\n",
    "warnings.warn = warn"
   ]
  },
  {
   "cell_type": "code",
   "execution_count": 3,
   "id": "f2a3e345",
   "metadata": {
    "execution": {
     "iopub.execute_input": "2024-05-15T08:58:47.379934Z",
     "iopub.status.busy": "2024-05-15T08:58:47.379504Z",
     "iopub.status.idle": "2024-05-15T08:58:47.384677Z",
     "shell.execute_reply": "2024-05-15T08:58:47.383418Z"
    },
    "papermill": {
     "duration": 0.026388,
     "end_time": "2024-05-15T08:58:47.387178",
     "exception": false,
     "start_time": "2024-05-15T08:58:47.360790",
     "status": "completed"
    },
    "tags": []
   },
   "outputs": [],
   "source": [
    "#!pip install -U scikit-learn"
   ]
  },
  {
   "cell_type": "code",
   "execution_count": 4,
   "id": "20e4b897",
   "metadata": {
    "execution": {
     "iopub.execute_input": "2024-05-15T08:58:47.423074Z",
     "iopub.status.busy": "2024-05-15T08:58:47.422674Z",
     "iopub.status.idle": "2024-05-15T08:58:49.851647Z",
     "shell.execute_reply": "2024-05-15T08:58:49.850566Z"
    },
    "papermill": {
     "duration": 2.449944,
     "end_time": "2024-05-15T08:58:49.854251",
     "exception": false,
     "start_time": "2024-05-15T08:58:47.404307",
     "status": "completed"
    },
    "tags": []
   },
   "outputs": [],
   "source": [
    "import pandas as pd\n",
    "import matplotlib.pyplot as plt\n",
    "import numpy as np\n",
    "import seaborn as sns\n",
    "from sklearn.pipeline import Pipeline\n",
    "from sklearn.preprocessing import StandardScaler,PolynomialFeatures\n",
    "from sklearn.linear_model import LinearRegression\n",
    "%matplotlib inline"
   ]
  },
  {
   "cell_type": "markdown",
   "id": "ccf284e5",
   "metadata": {
    "papermill": {
     "duration": 0.016795,
     "end_time": "2024-05-15T08:58:49.888499",
     "exception": false,
     "start_time": "2024-05-15T08:58:49.871704",
     "status": "completed"
    },
    "tags": []
   },
   "source": [
    "# Module 1: Importing Data Sets\n"
   ]
  },
  {
   "cell_type": "markdown",
   "id": "ec7e0a3f",
   "metadata": {
    "papermill": {
     "duration": 0.016784,
     "end_time": "2024-05-15T08:58:49.922490",
     "exception": false,
     "start_time": "2024-05-15T08:58:49.905706",
     "status": "completed"
    },
    "tags": []
   },
   "source": [
    "Download the dataset by running the cell below.\n"
   ]
  },
  {
   "cell_type": "code",
   "execution_count": 5,
   "id": "9f44fb21",
   "metadata": {
    "execution": {
     "iopub.execute_input": "2024-05-15T08:58:49.959246Z",
     "iopub.status.busy": "2024-05-15T08:58:49.958717Z",
     "iopub.status.idle": "2024-05-15T08:58:50.091922Z",
     "shell.execute_reply": "2024-05-15T08:58:50.090768Z"
    },
    "papermill": {
     "duration": 0.15463,
     "end_time": "2024-05-15T08:58:50.094727",
     "exception": false,
     "start_time": "2024-05-15T08:58:49.940097",
     "status": "completed"
    },
    "tags": []
   },
   "outputs": [],
   "source": [
    "file_path= '/kaggle/input/housingdataibm/housing.csv'\n",
    "df = pd.read_csv(file_path)"
   ]
  },
  {
   "cell_type": "markdown",
   "id": "f17baf81",
   "metadata": {
    "papermill": {
     "duration": 0.016739,
     "end_time": "2024-05-15T08:58:50.128785",
     "exception": false,
     "start_time": "2024-05-15T08:58:50.112046",
     "status": "completed"
    },
    "tags": []
   },
   "source": [
    "Load the csv:\n"
   ]
  },
  {
   "cell_type": "markdown",
   "id": "fff1e977",
   "metadata": {
    "papermill": {
     "duration": 0.016993,
     "end_time": "2024-05-15T08:58:50.162933",
     "exception": false,
     "start_time": "2024-05-15T08:58:50.145940",
     "status": "completed"
    },
    "tags": []
   },
   "source": [
    "> Note: This version of the lab is working on JupyterLite, which requires the dataset to be downloaded to the interface.While working on the downloaded version of this notebook on their local machines(Jupyter Anaconda), the learners can simply **skip the steps above,** and simply use the URL directly in the `pandas.read_csv()` function. You can uncomment and run the statements in the cell below.\n"
   ]
  },
  {
   "cell_type": "code",
   "execution_count": 6,
   "id": "c36765ac",
   "metadata": {
    "execution": {
     "iopub.execute_input": "2024-05-15T08:58:50.199271Z",
     "iopub.status.busy": "2024-05-15T08:58:50.198864Z",
     "iopub.status.idle": "2024-05-15T08:58:50.203847Z",
     "shell.execute_reply": "2024-05-15T08:58:50.202715Z"
    },
    "papermill": {
     "duration": 0.025867,
     "end_time": "2024-05-15T08:58:50.206248",
     "exception": false,
     "start_time": "2024-05-15T08:58:50.180381",
     "status": "completed"
    },
    "tags": []
   },
   "outputs": [],
   "source": [
    "#filepath='https://cf-courses-data.s3.us.cloud-object-storage.appdomain.cloud/IBMDeveloperSkillsNetwork-DA0101EN-SkillsNetwork/labs/FinalModule_Coursera/data/kc_house_data_NaN.csv'\n",
    "#df = pd.read_csv(filepath, header=None)"
   ]
  },
  {
   "cell_type": "markdown",
   "id": "fbfe8035",
   "metadata": {
    "papermill": {
     "duration": 0.016712,
     "end_time": "2024-05-15T08:58:50.240088",
     "exception": false,
     "start_time": "2024-05-15T08:58:50.223376",
     "status": "completed"
    },
    "tags": []
   },
   "source": [
    "We use the method <code>head</code> to display the first 5 columns of the dataframe.\n"
   ]
  },
  {
   "cell_type": "code",
   "execution_count": 7,
   "id": "bf85c0a0",
   "metadata": {
    "execution": {
     "iopub.execute_input": "2024-05-15T08:58:50.276127Z",
     "iopub.status.busy": "2024-05-15T08:58:50.275748Z",
     "iopub.status.idle": "2024-05-15T08:58:50.316460Z",
     "shell.execute_reply": "2024-05-15T08:58:50.315403Z"
    },
    "papermill": {
     "duration": 0.061864,
     "end_time": "2024-05-15T08:58:50.319160",
     "exception": false,
     "start_time": "2024-05-15T08:58:50.257296",
     "status": "completed"
    },
    "tags": []
   },
   "outputs": [
    {
     "data": {
      "text/html": [
       "<div>\n",
       "<style scoped>\n",
       "    .dataframe tbody tr th:only-of-type {\n",
       "        vertical-align: middle;\n",
       "    }\n",
       "\n",
       "    .dataframe tbody tr th {\n",
       "        vertical-align: top;\n",
       "    }\n",
       "\n",
       "    .dataframe thead th {\n",
       "        text-align: right;\n",
       "    }\n",
       "</style>\n",
       "<table border=\"1\" class=\"dataframe\">\n",
       "  <thead>\n",
       "    <tr style=\"text-align: right;\">\n",
       "      <th></th>\n",
       "      <th>Unnamed: 0</th>\n",
       "      <th>id</th>\n",
       "      <th>date</th>\n",
       "      <th>price</th>\n",
       "      <th>bedrooms</th>\n",
       "      <th>bathrooms</th>\n",
       "      <th>sqft_living</th>\n",
       "      <th>sqft_lot</th>\n",
       "      <th>floors</th>\n",
       "      <th>waterfront</th>\n",
       "      <th>...</th>\n",
       "      <th>grade</th>\n",
       "      <th>sqft_above</th>\n",
       "      <th>sqft_basement</th>\n",
       "      <th>yr_built</th>\n",
       "      <th>yr_renovated</th>\n",
       "      <th>zipcode</th>\n",
       "      <th>lat</th>\n",
       "      <th>long</th>\n",
       "      <th>sqft_living15</th>\n",
       "      <th>sqft_lot15</th>\n",
       "    </tr>\n",
       "  </thead>\n",
       "  <tbody>\n",
       "    <tr>\n",
       "      <th>0</th>\n",
       "      <td>0</td>\n",
       "      <td>7129300520</td>\n",
       "      <td>20141013T000000</td>\n",
       "      <td>221900.0</td>\n",
       "      <td>3.0</td>\n",
       "      <td>1.00</td>\n",
       "      <td>1180</td>\n",
       "      <td>5650</td>\n",
       "      <td>1.0</td>\n",
       "      <td>0</td>\n",
       "      <td>...</td>\n",
       "      <td>7</td>\n",
       "      <td>1180</td>\n",
       "      <td>0</td>\n",
       "      <td>1955</td>\n",
       "      <td>0</td>\n",
       "      <td>98178</td>\n",
       "      <td>47.5112</td>\n",
       "      <td>-122.257</td>\n",
       "      <td>1340</td>\n",
       "      <td>5650</td>\n",
       "    </tr>\n",
       "    <tr>\n",
       "      <th>1</th>\n",
       "      <td>1</td>\n",
       "      <td>6414100192</td>\n",
       "      <td>20141209T000000</td>\n",
       "      <td>538000.0</td>\n",
       "      <td>3.0</td>\n",
       "      <td>2.25</td>\n",
       "      <td>2570</td>\n",
       "      <td>7242</td>\n",
       "      <td>2.0</td>\n",
       "      <td>0</td>\n",
       "      <td>...</td>\n",
       "      <td>7</td>\n",
       "      <td>2170</td>\n",
       "      <td>400</td>\n",
       "      <td>1951</td>\n",
       "      <td>1991</td>\n",
       "      <td>98125</td>\n",
       "      <td>47.7210</td>\n",
       "      <td>-122.319</td>\n",
       "      <td>1690</td>\n",
       "      <td>7639</td>\n",
       "    </tr>\n",
       "    <tr>\n",
       "      <th>2</th>\n",
       "      <td>2</td>\n",
       "      <td>5631500400</td>\n",
       "      <td>20150225T000000</td>\n",
       "      <td>180000.0</td>\n",
       "      <td>2.0</td>\n",
       "      <td>1.00</td>\n",
       "      <td>770</td>\n",
       "      <td>10000</td>\n",
       "      <td>1.0</td>\n",
       "      <td>0</td>\n",
       "      <td>...</td>\n",
       "      <td>6</td>\n",
       "      <td>770</td>\n",
       "      <td>0</td>\n",
       "      <td>1933</td>\n",
       "      <td>0</td>\n",
       "      <td>98028</td>\n",
       "      <td>47.7379</td>\n",
       "      <td>-122.233</td>\n",
       "      <td>2720</td>\n",
       "      <td>8062</td>\n",
       "    </tr>\n",
       "    <tr>\n",
       "      <th>3</th>\n",
       "      <td>3</td>\n",
       "      <td>2487200875</td>\n",
       "      <td>20141209T000000</td>\n",
       "      <td>604000.0</td>\n",
       "      <td>4.0</td>\n",
       "      <td>3.00</td>\n",
       "      <td>1960</td>\n",
       "      <td>5000</td>\n",
       "      <td>1.0</td>\n",
       "      <td>0</td>\n",
       "      <td>...</td>\n",
       "      <td>7</td>\n",
       "      <td>1050</td>\n",
       "      <td>910</td>\n",
       "      <td>1965</td>\n",
       "      <td>0</td>\n",
       "      <td>98136</td>\n",
       "      <td>47.5208</td>\n",
       "      <td>-122.393</td>\n",
       "      <td>1360</td>\n",
       "      <td>5000</td>\n",
       "    </tr>\n",
       "    <tr>\n",
       "      <th>4</th>\n",
       "      <td>4</td>\n",
       "      <td>1954400510</td>\n",
       "      <td>20150218T000000</td>\n",
       "      <td>510000.0</td>\n",
       "      <td>3.0</td>\n",
       "      <td>2.00</td>\n",
       "      <td>1680</td>\n",
       "      <td>8080</td>\n",
       "      <td>1.0</td>\n",
       "      <td>0</td>\n",
       "      <td>...</td>\n",
       "      <td>8</td>\n",
       "      <td>1680</td>\n",
       "      <td>0</td>\n",
       "      <td>1987</td>\n",
       "      <td>0</td>\n",
       "      <td>98074</td>\n",
       "      <td>47.6168</td>\n",
       "      <td>-122.045</td>\n",
       "      <td>1800</td>\n",
       "      <td>7503</td>\n",
       "    </tr>\n",
       "  </tbody>\n",
       "</table>\n",
       "<p>5 rows × 22 columns</p>\n",
       "</div>"
      ],
      "text/plain": [
       "   Unnamed: 0          id             date     price  bedrooms  bathrooms  \\\n",
       "0           0  7129300520  20141013T000000  221900.0       3.0       1.00   \n",
       "1           1  6414100192  20141209T000000  538000.0       3.0       2.25   \n",
       "2           2  5631500400  20150225T000000  180000.0       2.0       1.00   \n",
       "3           3  2487200875  20141209T000000  604000.0       4.0       3.00   \n",
       "4           4  1954400510  20150218T000000  510000.0       3.0       2.00   \n",
       "\n",
       "   sqft_living  sqft_lot  floors  waterfront  ...  grade  sqft_above  \\\n",
       "0         1180      5650     1.0           0  ...      7        1180   \n",
       "1         2570      7242     2.0           0  ...      7        2170   \n",
       "2          770     10000     1.0           0  ...      6         770   \n",
       "3         1960      5000     1.0           0  ...      7        1050   \n",
       "4         1680      8080     1.0           0  ...      8        1680   \n",
       "\n",
       "   sqft_basement  yr_built  yr_renovated  zipcode      lat     long  \\\n",
       "0              0      1955             0    98178  47.5112 -122.257   \n",
       "1            400      1951          1991    98125  47.7210 -122.319   \n",
       "2              0      1933             0    98028  47.7379 -122.233   \n",
       "3            910      1965             0    98136  47.5208 -122.393   \n",
       "4              0      1987             0    98074  47.6168 -122.045   \n",
       "\n",
       "   sqft_living15  sqft_lot15  \n",
       "0           1340        5650  \n",
       "1           1690        7639  \n",
       "2           2720        8062  \n",
       "3           1360        5000  \n",
       "4           1800        7503  \n",
       "\n",
       "[5 rows x 22 columns]"
      ]
     },
     "execution_count": 7,
     "metadata": {},
     "output_type": "execute_result"
    }
   ],
   "source": [
    "df.head()"
   ]
  },
  {
   "cell_type": "markdown",
   "id": "25fce265",
   "metadata": {
    "papermill": {
     "duration": 0.01738,
     "end_time": "2024-05-15T08:58:50.354647",
     "exception": false,
     "start_time": "2024-05-15T08:58:50.337267",
     "status": "completed"
    },
    "tags": []
   },
   "source": [
    "### Question 1\n",
    "\n",
    "Display the data types of each column using the function dtypes. Take a screenshot of your code and output. You will need to submit the screenshot for the final project. \n"
   ]
  },
  {
   "cell_type": "code",
   "execution_count": 8,
   "id": "368d3fdc",
   "metadata": {
    "execution": {
     "iopub.execute_input": "2024-05-15T08:58:50.392006Z",
     "iopub.status.busy": "2024-05-15T08:58:50.391211Z",
     "iopub.status.idle": "2024-05-15T08:58:50.399901Z",
     "shell.execute_reply": "2024-05-15T08:58:50.398838Z"
    },
    "papermill": {
     "duration": 0.029951,
     "end_time": "2024-05-15T08:58:50.402163",
     "exception": false,
     "start_time": "2024-05-15T08:58:50.372212",
     "status": "completed"
    },
    "tags": []
   },
   "outputs": [
    {
     "data": {
      "text/plain": [
       "Unnamed: 0         int64\n",
       "id                 int64\n",
       "date              object\n",
       "price            float64\n",
       "bedrooms         float64\n",
       "bathrooms        float64\n",
       "sqft_living        int64\n",
       "sqft_lot           int64\n",
       "floors           float64\n",
       "waterfront         int64\n",
       "view               int64\n",
       "condition          int64\n",
       "grade              int64\n",
       "sqft_above         int64\n",
       "sqft_basement      int64\n",
       "yr_built           int64\n",
       "yr_renovated       int64\n",
       "zipcode            int64\n",
       "lat              float64\n",
       "long             float64\n",
       "sqft_living15      int64\n",
       "sqft_lot15         int64\n",
       "dtype: object"
      ]
     },
     "execution_count": 8,
     "metadata": {},
     "output_type": "execute_result"
    }
   ],
   "source": [
    "#Enter Your Code, Execute and take the Screenshot\n",
    "df.dtypes"
   ]
  },
  {
   "cell_type": "markdown",
   "id": "3e05d7bf",
   "metadata": {
    "papermill": {
     "duration": 0.017649,
     "end_time": "2024-05-15T08:58:50.497569",
     "exception": false,
     "start_time": "2024-05-15T08:58:50.479920",
     "status": "completed"
    },
    "tags": []
   },
   "source": [
    "We use the method describe to obtain a statistical summary of the dataframe.\n"
   ]
  },
  {
   "cell_type": "code",
   "execution_count": 9,
   "id": "8a829306",
   "metadata": {
    "execution": {
     "iopub.execute_input": "2024-05-15T08:58:50.535353Z",
     "iopub.status.busy": "2024-05-15T08:58:50.534469Z",
     "iopub.status.idle": "2024-05-15T08:58:50.620158Z",
     "shell.execute_reply": "2024-05-15T08:58:50.619036Z"
    },
    "papermill": {
     "duration": 0.107362,
     "end_time": "2024-05-15T08:58:50.622738",
     "exception": false,
     "start_time": "2024-05-15T08:58:50.515376",
     "status": "completed"
    },
    "tags": []
   },
   "outputs": [
    {
     "data": {
      "text/html": [
       "<div>\n",
       "<style scoped>\n",
       "    .dataframe tbody tr th:only-of-type {\n",
       "        vertical-align: middle;\n",
       "    }\n",
       "\n",
       "    .dataframe tbody tr th {\n",
       "        vertical-align: top;\n",
       "    }\n",
       "\n",
       "    .dataframe thead th {\n",
       "        text-align: right;\n",
       "    }\n",
       "</style>\n",
       "<table border=\"1\" class=\"dataframe\">\n",
       "  <thead>\n",
       "    <tr style=\"text-align: right;\">\n",
       "      <th></th>\n",
       "      <th>Unnamed: 0</th>\n",
       "      <th>id</th>\n",
       "      <th>price</th>\n",
       "      <th>bedrooms</th>\n",
       "      <th>bathrooms</th>\n",
       "      <th>sqft_living</th>\n",
       "      <th>sqft_lot</th>\n",
       "      <th>floors</th>\n",
       "      <th>waterfront</th>\n",
       "      <th>view</th>\n",
       "      <th>...</th>\n",
       "      <th>grade</th>\n",
       "      <th>sqft_above</th>\n",
       "      <th>sqft_basement</th>\n",
       "      <th>yr_built</th>\n",
       "      <th>yr_renovated</th>\n",
       "      <th>zipcode</th>\n",
       "      <th>lat</th>\n",
       "      <th>long</th>\n",
       "      <th>sqft_living15</th>\n",
       "      <th>sqft_lot15</th>\n",
       "    </tr>\n",
       "  </thead>\n",
       "  <tbody>\n",
       "    <tr>\n",
       "      <th>count</th>\n",
       "      <td>21613.00000</td>\n",
       "      <td>2.161300e+04</td>\n",
       "      <td>2.161300e+04</td>\n",
       "      <td>21600.000000</td>\n",
       "      <td>21603.000000</td>\n",
       "      <td>21613.000000</td>\n",
       "      <td>2.161300e+04</td>\n",
       "      <td>21613.000000</td>\n",
       "      <td>21613.000000</td>\n",
       "      <td>21613.000000</td>\n",
       "      <td>...</td>\n",
       "      <td>21613.000000</td>\n",
       "      <td>21613.000000</td>\n",
       "      <td>21613.000000</td>\n",
       "      <td>21613.000000</td>\n",
       "      <td>21613.000000</td>\n",
       "      <td>21613.000000</td>\n",
       "      <td>21613.000000</td>\n",
       "      <td>21613.000000</td>\n",
       "      <td>21613.000000</td>\n",
       "      <td>21613.000000</td>\n",
       "    </tr>\n",
       "    <tr>\n",
       "      <th>mean</th>\n",
       "      <td>10806.00000</td>\n",
       "      <td>4.580302e+09</td>\n",
       "      <td>5.400881e+05</td>\n",
       "      <td>3.372870</td>\n",
       "      <td>2.115736</td>\n",
       "      <td>2079.899736</td>\n",
       "      <td>1.510697e+04</td>\n",
       "      <td>1.494309</td>\n",
       "      <td>0.007542</td>\n",
       "      <td>0.234303</td>\n",
       "      <td>...</td>\n",
       "      <td>7.656873</td>\n",
       "      <td>1788.390691</td>\n",
       "      <td>291.509045</td>\n",
       "      <td>1971.005136</td>\n",
       "      <td>84.402258</td>\n",
       "      <td>98077.939805</td>\n",
       "      <td>47.560053</td>\n",
       "      <td>-122.213896</td>\n",
       "      <td>1986.552492</td>\n",
       "      <td>12768.455652</td>\n",
       "    </tr>\n",
       "    <tr>\n",
       "      <th>std</th>\n",
       "      <td>6239.28002</td>\n",
       "      <td>2.876566e+09</td>\n",
       "      <td>3.671272e+05</td>\n",
       "      <td>0.926657</td>\n",
       "      <td>0.768996</td>\n",
       "      <td>918.440897</td>\n",
       "      <td>4.142051e+04</td>\n",
       "      <td>0.539989</td>\n",
       "      <td>0.086517</td>\n",
       "      <td>0.766318</td>\n",
       "      <td>...</td>\n",
       "      <td>1.175459</td>\n",
       "      <td>828.090978</td>\n",
       "      <td>442.575043</td>\n",
       "      <td>29.373411</td>\n",
       "      <td>401.679240</td>\n",
       "      <td>53.505026</td>\n",
       "      <td>0.138564</td>\n",
       "      <td>0.140828</td>\n",
       "      <td>685.391304</td>\n",
       "      <td>27304.179631</td>\n",
       "    </tr>\n",
       "    <tr>\n",
       "      <th>min</th>\n",
       "      <td>0.00000</td>\n",
       "      <td>1.000102e+06</td>\n",
       "      <td>7.500000e+04</td>\n",
       "      <td>1.000000</td>\n",
       "      <td>0.500000</td>\n",
       "      <td>290.000000</td>\n",
       "      <td>5.200000e+02</td>\n",
       "      <td>1.000000</td>\n",
       "      <td>0.000000</td>\n",
       "      <td>0.000000</td>\n",
       "      <td>...</td>\n",
       "      <td>1.000000</td>\n",
       "      <td>290.000000</td>\n",
       "      <td>0.000000</td>\n",
       "      <td>1900.000000</td>\n",
       "      <td>0.000000</td>\n",
       "      <td>98001.000000</td>\n",
       "      <td>47.155900</td>\n",
       "      <td>-122.519000</td>\n",
       "      <td>399.000000</td>\n",
       "      <td>651.000000</td>\n",
       "    </tr>\n",
       "    <tr>\n",
       "      <th>25%</th>\n",
       "      <td>5403.00000</td>\n",
       "      <td>2.123049e+09</td>\n",
       "      <td>3.219500e+05</td>\n",
       "      <td>3.000000</td>\n",
       "      <td>1.750000</td>\n",
       "      <td>1427.000000</td>\n",
       "      <td>5.040000e+03</td>\n",
       "      <td>1.000000</td>\n",
       "      <td>0.000000</td>\n",
       "      <td>0.000000</td>\n",
       "      <td>...</td>\n",
       "      <td>7.000000</td>\n",
       "      <td>1190.000000</td>\n",
       "      <td>0.000000</td>\n",
       "      <td>1951.000000</td>\n",
       "      <td>0.000000</td>\n",
       "      <td>98033.000000</td>\n",
       "      <td>47.471000</td>\n",
       "      <td>-122.328000</td>\n",
       "      <td>1490.000000</td>\n",
       "      <td>5100.000000</td>\n",
       "    </tr>\n",
       "    <tr>\n",
       "      <th>50%</th>\n",
       "      <td>10806.00000</td>\n",
       "      <td>3.904930e+09</td>\n",
       "      <td>4.500000e+05</td>\n",
       "      <td>3.000000</td>\n",
       "      <td>2.250000</td>\n",
       "      <td>1910.000000</td>\n",
       "      <td>7.618000e+03</td>\n",
       "      <td>1.500000</td>\n",
       "      <td>0.000000</td>\n",
       "      <td>0.000000</td>\n",
       "      <td>...</td>\n",
       "      <td>7.000000</td>\n",
       "      <td>1560.000000</td>\n",
       "      <td>0.000000</td>\n",
       "      <td>1975.000000</td>\n",
       "      <td>0.000000</td>\n",
       "      <td>98065.000000</td>\n",
       "      <td>47.571800</td>\n",
       "      <td>-122.230000</td>\n",
       "      <td>1840.000000</td>\n",
       "      <td>7620.000000</td>\n",
       "    </tr>\n",
       "    <tr>\n",
       "      <th>75%</th>\n",
       "      <td>16209.00000</td>\n",
       "      <td>7.308900e+09</td>\n",
       "      <td>6.450000e+05</td>\n",
       "      <td>4.000000</td>\n",
       "      <td>2.500000</td>\n",
       "      <td>2550.000000</td>\n",
       "      <td>1.068800e+04</td>\n",
       "      <td>2.000000</td>\n",
       "      <td>0.000000</td>\n",
       "      <td>0.000000</td>\n",
       "      <td>...</td>\n",
       "      <td>8.000000</td>\n",
       "      <td>2210.000000</td>\n",
       "      <td>560.000000</td>\n",
       "      <td>1997.000000</td>\n",
       "      <td>0.000000</td>\n",
       "      <td>98118.000000</td>\n",
       "      <td>47.678000</td>\n",
       "      <td>-122.125000</td>\n",
       "      <td>2360.000000</td>\n",
       "      <td>10083.000000</td>\n",
       "    </tr>\n",
       "    <tr>\n",
       "      <th>max</th>\n",
       "      <td>21612.00000</td>\n",
       "      <td>9.900000e+09</td>\n",
       "      <td>7.700000e+06</td>\n",
       "      <td>33.000000</td>\n",
       "      <td>8.000000</td>\n",
       "      <td>13540.000000</td>\n",
       "      <td>1.651359e+06</td>\n",
       "      <td>3.500000</td>\n",
       "      <td>1.000000</td>\n",
       "      <td>4.000000</td>\n",
       "      <td>...</td>\n",
       "      <td>13.000000</td>\n",
       "      <td>9410.000000</td>\n",
       "      <td>4820.000000</td>\n",
       "      <td>2015.000000</td>\n",
       "      <td>2015.000000</td>\n",
       "      <td>98199.000000</td>\n",
       "      <td>47.777600</td>\n",
       "      <td>-121.315000</td>\n",
       "      <td>6210.000000</td>\n",
       "      <td>871200.000000</td>\n",
       "    </tr>\n",
       "  </tbody>\n",
       "</table>\n",
       "<p>8 rows × 21 columns</p>\n",
       "</div>"
      ],
      "text/plain": [
       "        Unnamed: 0            id         price      bedrooms     bathrooms  \\\n",
       "count  21613.00000  2.161300e+04  2.161300e+04  21600.000000  21603.000000   \n",
       "mean   10806.00000  4.580302e+09  5.400881e+05      3.372870      2.115736   \n",
       "std     6239.28002  2.876566e+09  3.671272e+05      0.926657      0.768996   \n",
       "min        0.00000  1.000102e+06  7.500000e+04      1.000000      0.500000   \n",
       "25%     5403.00000  2.123049e+09  3.219500e+05      3.000000      1.750000   \n",
       "50%    10806.00000  3.904930e+09  4.500000e+05      3.000000      2.250000   \n",
       "75%    16209.00000  7.308900e+09  6.450000e+05      4.000000      2.500000   \n",
       "max    21612.00000  9.900000e+09  7.700000e+06     33.000000      8.000000   \n",
       "\n",
       "        sqft_living      sqft_lot        floors    waterfront          view  \\\n",
       "count  21613.000000  2.161300e+04  21613.000000  21613.000000  21613.000000   \n",
       "mean    2079.899736  1.510697e+04      1.494309      0.007542      0.234303   \n",
       "std      918.440897  4.142051e+04      0.539989      0.086517      0.766318   \n",
       "min      290.000000  5.200000e+02      1.000000      0.000000      0.000000   \n",
       "25%     1427.000000  5.040000e+03      1.000000      0.000000      0.000000   \n",
       "50%     1910.000000  7.618000e+03      1.500000      0.000000      0.000000   \n",
       "75%     2550.000000  1.068800e+04      2.000000      0.000000      0.000000   \n",
       "max    13540.000000  1.651359e+06      3.500000      1.000000      4.000000   \n",
       "\n",
       "       ...         grade    sqft_above  sqft_basement      yr_built  \\\n",
       "count  ...  21613.000000  21613.000000   21613.000000  21613.000000   \n",
       "mean   ...      7.656873   1788.390691     291.509045   1971.005136   \n",
       "std    ...      1.175459    828.090978     442.575043     29.373411   \n",
       "min    ...      1.000000    290.000000       0.000000   1900.000000   \n",
       "25%    ...      7.000000   1190.000000       0.000000   1951.000000   \n",
       "50%    ...      7.000000   1560.000000       0.000000   1975.000000   \n",
       "75%    ...      8.000000   2210.000000     560.000000   1997.000000   \n",
       "max    ...     13.000000   9410.000000    4820.000000   2015.000000   \n",
       "\n",
       "       yr_renovated       zipcode           lat          long  sqft_living15  \\\n",
       "count  21613.000000  21613.000000  21613.000000  21613.000000   21613.000000   \n",
       "mean      84.402258  98077.939805     47.560053   -122.213896    1986.552492   \n",
       "std      401.679240     53.505026      0.138564      0.140828     685.391304   \n",
       "min        0.000000  98001.000000     47.155900   -122.519000     399.000000   \n",
       "25%        0.000000  98033.000000     47.471000   -122.328000    1490.000000   \n",
       "50%        0.000000  98065.000000     47.571800   -122.230000    1840.000000   \n",
       "75%        0.000000  98118.000000     47.678000   -122.125000    2360.000000   \n",
       "max     2015.000000  98199.000000     47.777600   -121.315000    6210.000000   \n",
       "\n",
       "          sqft_lot15  \n",
       "count   21613.000000  \n",
       "mean    12768.455652  \n",
       "std     27304.179631  \n",
       "min       651.000000  \n",
       "25%      5100.000000  \n",
       "50%      7620.000000  \n",
       "75%     10083.000000  \n",
       "max    871200.000000  \n",
       "\n",
       "[8 rows x 21 columns]"
      ]
     },
     "execution_count": 9,
     "metadata": {},
     "output_type": "execute_result"
    }
   ],
   "source": [
    "df.describe()"
   ]
  },
  {
   "cell_type": "markdown",
   "id": "a633cf21",
   "metadata": {
    "papermill": {
     "duration": 0.018182,
     "end_time": "2024-05-15T08:58:50.659325",
     "exception": false,
     "start_time": "2024-05-15T08:58:50.641143",
     "status": "completed"
    },
    "tags": []
   },
   "source": [
    "# Module 2: Data Wrangling\n"
   ]
  },
  {
   "cell_type": "markdown",
   "id": "652a15f6",
   "metadata": {
    "papermill": {
     "duration": 0.018004,
     "end_time": "2024-05-15T08:58:50.697249",
     "exception": false,
     "start_time": "2024-05-15T08:58:50.679245",
     "status": "completed"
    },
    "tags": []
   },
   "source": [
    "### Question 2\n",
    "\n",
    "Drop the columns <code>\"id\"</code>  and <code>\"Unnamed: 0\"</code> from axis 1 using the method <code>drop()</code>, then use the method <code>describe()</code> to obtain a statistical summary of the data. Make sure the <code>inplace</code> parameter is set to <code>True</code>. Take a screenshot of your code and output. You will need to submit the screenshot for the final project. \n"
   ]
  },
  {
   "cell_type": "code",
   "execution_count": 10,
   "id": "fe0085a1",
   "metadata": {
    "execution": {
     "iopub.execute_input": "2024-05-15T08:58:50.736695Z",
     "iopub.status.busy": "2024-05-15T08:58:50.735760Z",
     "iopub.status.idle": "2024-05-15T08:58:50.755564Z",
     "shell.execute_reply": "2024-05-15T08:58:50.754400Z"
    },
    "papermill": {
     "duration": 0.042629,
     "end_time": "2024-05-15T08:58:50.758626",
     "exception": false,
     "start_time": "2024-05-15T08:58:50.715997",
     "status": "completed"
    },
    "tags": []
   },
   "outputs": [
    {
     "name": "stdout",
     "output_type": "stream",
     "text": [
      "                  date     price  bedrooms  bathrooms  sqft_living  sqft_lot  \\\n",
      "0      20141013T000000  221900.0       3.0       1.00         1180      5650   \n",
      "1      20141209T000000  538000.0       3.0       2.25         2570      7242   \n",
      "2      20150225T000000  180000.0       2.0       1.00          770     10000   \n",
      "3      20141209T000000  604000.0       4.0       3.00         1960      5000   \n",
      "4      20150218T000000  510000.0       3.0       2.00         1680      8080   \n",
      "...                ...       ...       ...        ...          ...       ...   \n",
      "21608  20140521T000000  360000.0       3.0       2.50         1530      1131   \n",
      "21609  20150223T000000  400000.0       4.0       2.50         2310      5813   \n",
      "21610  20140623T000000  402101.0       2.0       0.75         1020      1350   \n",
      "21611  20150116T000000  400000.0       3.0       2.50         1600      2388   \n",
      "21612  20141015T000000  325000.0       2.0       0.75         1020      1076   \n",
      "\n",
      "       floors  waterfront  view  condition  grade  sqft_above  sqft_basement  \\\n",
      "0         1.0           0     0          3      7        1180              0   \n",
      "1         2.0           0     0          3      7        2170            400   \n",
      "2         1.0           0     0          3      6         770              0   \n",
      "3         1.0           0     0          5      7        1050            910   \n",
      "4         1.0           0     0          3      8        1680              0   \n",
      "...       ...         ...   ...        ...    ...         ...            ...   \n",
      "21608     3.0           0     0          3      8        1530              0   \n",
      "21609     2.0           0     0          3      8        2310              0   \n",
      "21610     2.0           0     0          3      7        1020              0   \n",
      "21611     2.0           0     0          3      8        1600              0   \n",
      "21612     2.0           0     0          3      7        1020              0   \n",
      "\n",
      "       yr_built  yr_renovated  zipcode      lat     long  sqft_living15  \\\n",
      "0          1955             0    98178  47.5112 -122.257           1340   \n",
      "1          1951          1991    98125  47.7210 -122.319           1690   \n",
      "2          1933             0    98028  47.7379 -122.233           2720   \n",
      "3          1965             0    98136  47.5208 -122.393           1360   \n",
      "4          1987             0    98074  47.6168 -122.045           1800   \n",
      "...         ...           ...      ...      ...      ...            ...   \n",
      "21608      2009             0    98103  47.6993 -122.346           1530   \n",
      "21609      2014             0    98146  47.5107 -122.362           1830   \n",
      "21610      2009             0    98144  47.5944 -122.299           1020   \n",
      "21611      2004             0    98027  47.5345 -122.069           1410   \n",
      "21612      2008             0    98144  47.5941 -122.299           1020   \n",
      "\n",
      "       sqft_lot15  \n",
      "0            5650  \n",
      "1            7639  \n",
      "2            8062  \n",
      "3            5000  \n",
      "4            7503  \n",
      "...           ...  \n",
      "21608        1509  \n",
      "21609        7200  \n",
      "21610        2007  \n",
      "21611        1287  \n",
      "21612        1357  \n",
      "\n",
      "[21613 rows x 20 columns]\n"
     ]
    }
   ],
   "source": [
    "#Enter Your Code, Execute and take the Screenshot\n",
    "df.drop(['id','Unnamed: 0'], axis = 1, inplace = True)\n",
    "print(df)\n"
   ]
  },
  {
   "cell_type": "markdown",
   "id": "3a4789bd",
   "metadata": {
    "papermill": {
     "duration": 0.018317,
     "end_time": "2024-05-15T08:58:50.796024",
     "exception": false,
     "start_time": "2024-05-15T08:58:50.777707",
     "status": "completed"
    },
    "tags": []
   },
   "source": [
    "We can see we have missing values for the columns <code> bedrooms</code>  and <code> bathrooms </code>\n"
   ]
  },
  {
   "cell_type": "code",
   "execution_count": 11,
   "id": "4c38f7d6",
   "metadata": {
    "execution": {
     "iopub.execute_input": "2024-05-15T08:58:50.836178Z",
     "iopub.status.busy": "2024-05-15T08:58:50.835428Z",
     "iopub.status.idle": "2024-05-15T08:58:50.843302Z",
     "shell.execute_reply": "2024-05-15T08:58:50.842131Z"
    },
    "papermill": {
     "duration": 0.030568,
     "end_time": "2024-05-15T08:58:50.845691",
     "exception": false,
     "start_time": "2024-05-15T08:58:50.815123",
     "status": "completed"
    },
    "tags": []
   },
   "outputs": [
    {
     "name": "stdout",
     "output_type": "stream",
     "text": [
      "number of NaN values for the column bedrooms : 13\n",
      "number of NaN values for the column bathrooms : 10\n"
     ]
    }
   ],
   "source": [
    "print(\"number of NaN values for the column bedrooms :\", df['bedrooms'].isnull().sum())\n",
    "print(\"number of NaN values for the column bathrooms :\", df['bathrooms'].isnull().sum())\n"
   ]
  },
  {
   "cell_type": "markdown",
   "id": "3e3eb56e",
   "metadata": {
    "papermill": {
     "duration": 0.018387,
     "end_time": "2024-05-15T08:58:50.882938",
     "exception": false,
     "start_time": "2024-05-15T08:58:50.864551",
     "status": "completed"
    },
    "tags": []
   },
   "source": [
    "We can replace the missing values of the column <code>'bedrooms'</code> with the mean of the column  <code>'bedrooms' </code> using the method <code>replace()</code>. Don't forget to set the <code>inplace</code> parameter to <code>True</code>\n"
   ]
  },
  {
   "cell_type": "code",
   "execution_count": 12,
   "id": "505e7e9a",
   "metadata": {
    "execution": {
     "iopub.execute_input": "2024-05-15T08:58:50.922705Z",
     "iopub.status.busy": "2024-05-15T08:58:50.921672Z",
     "iopub.status.idle": "2024-05-15T08:58:50.928405Z",
     "shell.execute_reply": "2024-05-15T08:58:50.927418Z"
    },
    "papermill": {
     "duration": 0.029308,
     "end_time": "2024-05-15T08:58:50.930968",
     "exception": false,
     "start_time": "2024-05-15T08:58:50.901660",
     "status": "completed"
    },
    "tags": []
   },
   "outputs": [],
   "source": [
    "mean=df['bedrooms'].mean()\n",
    "df['bedrooms'].replace(np.nan,mean, inplace=True)"
   ]
  },
  {
   "cell_type": "markdown",
   "id": "b7995356",
   "metadata": {
    "papermill": {
     "duration": 0.018969,
     "end_time": "2024-05-15T08:58:50.968677",
     "exception": false,
     "start_time": "2024-05-15T08:58:50.949708",
     "status": "completed"
    },
    "tags": []
   },
   "source": [
    "We also replace the missing values of the column <code>'bathrooms'</code> with the mean of the column  <code>'bathrooms' </code> using the method <code>replace()</code>. Don't forget to set the <code> inplace </code>  parameter top <code> True </code>\n"
   ]
  },
  {
   "cell_type": "code",
   "execution_count": 13,
   "id": "1a0d7f24",
   "metadata": {
    "execution": {
     "iopub.execute_input": "2024-05-15T08:58:51.008140Z",
     "iopub.status.busy": "2024-05-15T08:58:51.007398Z",
     "iopub.status.idle": "2024-05-15T08:58:51.014503Z",
     "shell.execute_reply": "2024-05-15T08:58:51.013382Z"
    },
    "papermill": {
     "duration": 0.029339,
     "end_time": "2024-05-15T08:58:51.016838",
     "exception": false,
     "start_time": "2024-05-15T08:58:50.987499",
     "status": "completed"
    },
    "tags": []
   },
   "outputs": [],
   "source": [
    "mean=df['bathrooms'].mean()\n",
    "df['bathrooms'].replace(np.nan,mean, inplace=True)"
   ]
  },
  {
   "cell_type": "code",
   "execution_count": 14,
   "id": "91c8a832",
   "metadata": {
    "execution": {
     "iopub.execute_input": "2024-05-15T08:58:51.056307Z",
     "iopub.status.busy": "2024-05-15T08:58:51.055902Z",
     "iopub.status.idle": "2024-05-15T08:58:51.062701Z",
     "shell.execute_reply": "2024-05-15T08:58:51.061630Z"
    },
    "papermill": {
     "duration": 0.030224,
     "end_time": "2024-05-15T08:58:51.065864",
     "exception": false,
     "start_time": "2024-05-15T08:58:51.035640",
     "status": "completed"
    },
    "tags": []
   },
   "outputs": [
    {
     "name": "stdout",
     "output_type": "stream",
     "text": [
      "number of NaN values for the column bedrooms : 0\n",
      "number of NaN values for the column bathrooms : 0\n"
     ]
    }
   ],
   "source": [
    "print(\"number of NaN values for the column bedrooms :\", df['bedrooms'].isnull().sum())\n",
    "print(\"number of NaN values for the column bathrooms :\", df['bathrooms'].isnull().sum())"
   ]
  },
  {
   "cell_type": "markdown",
   "id": "21fa17e8",
   "metadata": {
    "papermill": {
     "duration": 0.018524,
     "end_time": "2024-05-15T08:58:51.103240",
     "exception": false,
     "start_time": "2024-05-15T08:58:51.084716",
     "status": "completed"
    },
    "tags": []
   },
   "source": [
    "# Module 3: Exploratory Data Analysis\n"
   ]
  },
  {
   "cell_type": "markdown",
   "id": "d5a7d6f4",
   "metadata": {
    "papermill": {
     "duration": 0.018407,
     "end_time": "2024-05-15T08:58:51.140514",
     "exception": false,
     "start_time": "2024-05-15T08:58:51.122107",
     "status": "completed"
    },
    "tags": []
   },
   "source": [
    "### Question 3\n",
    "\n",
    "Use the method <code>value_counts</code> to count the number of houses with unique floor values, use the method <code>.to_frame()</code> to convert it to a data frame. Take a screenshot of your code and output. You will need to submit the screenshot for the final project. \n"
   ]
  },
  {
   "cell_type": "code",
   "execution_count": 15,
   "id": "d7087b42",
   "metadata": {
    "execution": {
     "iopub.execute_input": "2024-05-15T08:58:51.182114Z",
     "iopub.status.busy": "2024-05-15T08:58:51.181410Z",
     "iopub.status.idle": "2024-05-15T08:58:51.198094Z",
     "shell.execute_reply": "2024-05-15T08:58:51.196974Z"
    },
    "papermill": {
     "duration": 0.041232,
     "end_time": "2024-05-15T08:58:51.200631",
     "exception": false,
     "start_time": "2024-05-15T08:58:51.159399",
     "status": "completed"
    },
    "tags": []
   },
   "outputs": [
    {
     "data": {
      "text/html": [
       "<div>\n",
       "<style scoped>\n",
       "    .dataframe tbody tr th:only-of-type {\n",
       "        vertical-align: middle;\n",
       "    }\n",
       "\n",
       "    .dataframe tbody tr th {\n",
       "        vertical-align: top;\n",
       "    }\n",
       "\n",
       "    .dataframe thead th {\n",
       "        text-align: right;\n",
       "    }\n",
       "</style>\n",
       "<table border=\"1\" class=\"dataframe\">\n",
       "  <thead>\n",
       "    <tr style=\"text-align: right;\">\n",
       "      <th></th>\n",
       "      <th>count</th>\n",
       "    </tr>\n",
       "    <tr>\n",
       "      <th>floors</th>\n",
       "      <th></th>\n",
       "    </tr>\n",
       "  </thead>\n",
       "  <tbody>\n",
       "    <tr>\n",
       "      <th>1.0</th>\n",
       "      <td>10680</td>\n",
       "    </tr>\n",
       "    <tr>\n",
       "      <th>2.0</th>\n",
       "      <td>8241</td>\n",
       "    </tr>\n",
       "    <tr>\n",
       "      <th>1.5</th>\n",
       "      <td>1910</td>\n",
       "    </tr>\n",
       "    <tr>\n",
       "      <th>3.0</th>\n",
       "      <td>613</td>\n",
       "    </tr>\n",
       "    <tr>\n",
       "      <th>2.5</th>\n",
       "      <td>161</td>\n",
       "    </tr>\n",
       "    <tr>\n",
       "      <th>3.5</th>\n",
       "      <td>8</td>\n",
       "    </tr>\n",
       "  </tbody>\n",
       "</table>\n",
       "</div>"
      ],
      "text/plain": [
       "        count\n",
       "floors       \n",
       "1.0     10680\n",
       "2.0      8241\n",
       "1.5      1910\n",
       "3.0       613\n",
       "2.5       161\n",
       "3.5         8"
      ]
     },
     "execution_count": 15,
     "metadata": {},
     "output_type": "execute_result"
    }
   ],
   "source": [
    "#Enter Your Code, Execute and take the Screenshot\n",
    "df[\"floors\"].value_counts().to_frame()"
   ]
  },
  {
   "cell_type": "markdown",
   "id": "2144b039",
   "metadata": {
    "papermill": {
     "duration": 0.018686,
     "end_time": "2024-05-15T08:58:51.238402",
     "exception": false,
     "start_time": "2024-05-15T08:58:51.219716",
     "status": "completed"
    },
    "tags": []
   },
   "source": [
    "### Question 4\n",
    "\n",
    "Use the function <code>boxplot</code> in the seaborn library  to  determine whether houses with a waterfront view or without a waterfront view have more price outliers. Take a screenshot of your code and boxplot. You will need to submit the screenshot for the final project. \n"
   ]
  },
  {
   "cell_type": "code",
   "execution_count": 16,
   "id": "310afe54",
   "metadata": {
    "execution": {
     "iopub.execute_input": "2024-05-15T08:58:51.278198Z",
     "iopub.status.busy": "2024-05-15T08:58:51.277771Z",
     "iopub.status.idle": "2024-05-15T08:58:51.584029Z",
     "shell.execute_reply": "2024-05-15T08:58:51.582839Z"
    },
    "papermill": {
     "duration": 0.329414,
     "end_time": "2024-05-15T08:58:51.586609",
     "exception": false,
     "start_time": "2024-05-15T08:58:51.257195",
     "status": "completed"
    },
    "tags": []
   },
   "outputs": [
    {
     "data": {
      "text/plain": [
       "<Axes: xlabel='waterfront', ylabel='price'>"
      ]
     },
     "execution_count": 16,
     "metadata": {},
     "output_type": "execute_result"
    },
    {
     "data": {
      "image/png": "[encoded data removed]",
      "text/plain": [
       "<Figure size 640x480 with 1 Axes>"
      ]
     },
     "metadata": {},
     "output_type": "display_data"
    }
   ],
   "source": [
    "wf = df['waterfront']\n",
    "price = df['price']\n",
    "\n",
    "sns.boxplot(x = wf, y = price)"
   ]
  },
  {
   "cell_type": "markdown",
   "id": "6d5cf903",
   "metadata": {
    "papermill": {
     "duration": 0.019333,
     "end_time": "2024-05-15T08:58:51.625708",
     "exception": false,
     "start_time": "2024-05-15T08:58:51.606375",
     "status": "completed"
    },
    "tags": []
   },
   "source": [
    "### Question 5\n",
    "\n",
    "Use the function <code>regplot</code>  in the seaborn library  to  determine if the feature <code>sqft_above</code> is negatively or positively correlated with price. Take a screenshot of your code and scatterplot. You will need to submit the screenshot for the final project. \n"
   ]
  },
  {
   "cell_type": "code",
   "execution_count": 17,
   "id": "64488abc",
   "metadata": {
    "execution": {
     "iopub.execute_input": "2024-05-15T08:58:51.667511Z",
     "iopub.status.busy": "2024-05-15T08:58:51.666516Z",
     "iopub.status.idle": "2024-05-15T08:58:53.240761Z",
     "shell.execute_reply": "2024-05-15T08:58:53.239200Z"
    },
    "papermill": {
     "duration": 1.598059,
     "end_time": "2024-05-15T08:58:53.243439",
     "exception": false,
     "start_time": "2024-05-15T08:58:51.645380",
     "status": "completed"
    },
    "tags": []
   },
   "outputs": [
    {
     "data": {
      "image/png": "[encoded data removed]",
      "text/plain": [
       "<Figure size 640x480 with 1 Axes>"
      ]
     },
     "metadata": {},
     "output_type": "display_data"
    }
   ],
   "source": [
    "#Enter Your Code, Execute and take the Screenshot\n",
    "sns.regplot( x= 'sqft_above', y = 'price', data = df)\n",
    "\n",
    "plt.show()"
   ]
  },
  {
   "cell_type": "markdown",
   "id": "991d4a27",
   "metadata": {
    "papermill": {
     "duration": 0.02,
     "end_time": "2024-05-15T08:58:53.283992",
     "exception": false,
     "start_time": "2024-05-15T08:58:53.263992",
     "status": "completed"
    },
    "tags": []
   },
   "source": [
    "# Module 4: Model Development\n"
   ]
  },
  {
   "cell_type": "markdown",
   "id": "eec3fe6e",
   "metadata": {
    "papermill": {
     "duration": 0.020155,
     "end_time": "2024-05-15T08:58:53.324594",
     "exception": false,
     "start_time": "2024-05-15T08:58:53.304439",
     "status": "completed"
    },
    "tags": []
   },
   "source": [
    "We can Fit a linear regression model using the  longitude feature <code>'long'</code> and  caculate the R^2.\n"
   ]
  },
  {
   "cell_type": "code",
   "execution_count": 18,
   "id": "8c4b1eae",
   "metadata": {
    "execution": {
     "iopub.execute_input": "2024-05-15T08:58:53.368374Z",
     "iopub.status.busy": "2024-05-15T08:58:53.367952Z",
     "iopub.status.idle": "2024-05-15T08:58:53.398065Z",
     "shell.execute_reply": "2024-05-15T08:58:53.396977Z"
    },
    "papermill": {
     "duration": 0.054942,
     "end_time": "2024-05-15T08:58:53.400684",
     "exception": false,
     "start_time": "2024-05-15T08:58:53.345742",
     "status": "completed"
    },
    "tags": []
   },
   "outputs": [
    {
     "data": {
      "text/plain": [
       "0.00046769430149007363"
      ]
     },
     "execution_count": 18,
     "metadata": {},
     "output_type": "execute_result"
    }
   ],
   "source": [
    "X = df[['long']]\n",
    "Y = df['price']\n",
    "lm = LinearRegression()\n",
    "lm.fit(X,Y)\n",
    "lm.score(X, Y)"
   ]
  },
  {
   "cell_type": "markdown",
   "id": "176f3462",
   "metadata": {
    "papermill": {
     "duration": 0.023008,
     "end_time": "2024-05-15T08:58:53.444337",
     "exception": false,
     "start_time": "2024-05-15T08:58:53.421329",
     "status": "completed"
    },
    "tags": []
   },
   "source": [
    "### Question  6\n",
    "\n",
    "Fit a linear regression model to predict the <code>'price'</code> using the feature <code>'sqft_living'</code> then calculate the R^2. Take a screenshot of your code and the value of the R^2. You will need to submit it for the final project.\n"
   ]
  },
  {
   "cell_type": "code",
   "execution_count": 19,
   "id": "428b1efa",
   "metadata": {
    "execution": {
     "iopub.execute_input": "2024-05-15T08:58:53.488131Z",
     "iopub.status.busy": "2024-05-15T08:58:53.487746Z",
     "iopub.status.idle": "2024-05-15T08:58:53.503678Z",
     "shell.execute_reply": "2024-05-15T08:58:53.502468Z"
    },
    "papermill": {
     "duration": 0.040628,
     "end_time": "2024-05-15T08:58:53.506205",
     "exception": false,
     "start_time": "2024-05-15T08:58:53.465577",
     "status": "completed"
    },
    "tags": []
   },
   "outputs": [
    {
     "data": {
      "text/plain": [
       "0.4928532179037931"
      ]
     },
     "execution_count": 19,
     "metadata": {},
     "output_type": "execute_result"
    }
   ],
   "source": [
    "#Enter Your Code, Execute and take the Screenshot\n",
    "sqft_living = df[['sqft_living']]\n",
    "price = df['price']\n",
    "\n",
    "lm = LinearRegression()\n",
    "lm.fit(sqft_living,price)\n",
    "lm.score(sqft_living, price)\n"
   ]
  },
  {
   "cell_type": "markdown",
   "id": "fe5450b2",
   "metadata": {
    "papermill": {
     "duration": 0.020622,
     "end_time": "2024-05-15T08:58:53.547855",
     "exception": false,
     "start_time": "2024-05-15T08:58:53.527233",
     "status": "completed"
    },
    "tags": []
   },
   "source": [
    "### Question 7\n",
    "\n",
    "Fit a linear regression model to predict the <code>'price'</code> using the list of features:\n"
   ]
  },
  {
   "cell_type": "code",
   "execution_count": 20,
   "id": "443db6b0",
   "metadata": {
    "execution": {
     "iopub.execute_input": "2024-05-15T08:58:53.592262Z",
     "iopub.status.busy": "2024-05-15T08:58:53.591879Z",
     "iopub.status.idle": "2024-05-15T08:58:53.597437Z",
     "shell.execute_reply": "2024-05-15T08:58:53.596215Z"
    },
    "papermill": {
     "duration": 0.031062,
     "end_time": "2024-05-15T08:58:53.600003",
     "exception": false,
     "start_time": "2024-05-15T08:58:53.568941",
     "status": "completed"
    },
    "tags": []
   },
   "outputs": [],
   "source": [
    "features =[\"floors\", \"waterfront\",\"lat\" ,\"bedrooms\" ,\"sqft_basement\" ,\"view\" ,\"bathrooms\",\"sqft_living15\",\"sqft_above\",\"grade\",\"sqft_living\"]     "
   ]
  },
  {
   "cell_type": "markdown",
   "id": "53f3b8f4",
   "metadata": {
    "papermill": {
     "duration": 0.021886,
     "end_time": "2024-05-15T08:58:53.643219",
     "exception": false,
     "start_time": "2024-05-15T08:58:53.621333",
     "status": "completed"
    },
    "tags": []
   },
   "source": [
    "Then calculate the R^2. Take a screenshot of your code and the value of the R^2. You will need to submit it for the final project.\n"
   ]
  },
  {
   "cell_type": "code",
   "execution_count": 21,
   "id": "2058174b",
   "metadata": {
    "execution": {
     "iopub.execute_input": "2024-05-15T08:58:53.702973Z",
     "iopub.status.busy": "2024-05-15T08:58:53.702269Z",
     "iopub.status.idle": "2024-05-15T08:58:53.746641Z",
     "shell.execute_reply": "2024-05-15T08:58:53.745485Z"
    },
    "papermill": {
     "duration": 0.084003,
     "end_time": "2024-05-15T08:58:53.756412",
     "exception": false,
     "start_time": "2024-05-15T08:58:53.672409",
     "status": "completed"
    },
    "tags": []
   },
   "outputs": [
    {
     "data": {
      "text/plain": [
       "0.6576862276276761"
      ]
     },
     "execution_count": 21,
     "metadata": {},
     "output_type": "execute_result"
    }
   ],
   "source": [
    "#Enter Your Code, Execute and take the Screenshot\n",
    "price = df['price']\n",
    "x = df[features]\n",
    "lm = LinearRegression()\n",
    "lm.fit(x,price)\n",
    "lm.score(x, price)"
   ]
  },
  {
   "cell_type": "markdown",
   "id": "7299bce3",
   "metadata": {
    "papermill": {
     "duration": 0.030345,
     "end_time": "2024-05-15T08:58:53.883181",
     "exception": false,
     "start_time": "2024-05-15T08:58:53.852836",
     "status": "completed"
    },
    "tags": []
   },
   "source": [
    "### This will help with Question 8\n",
    "\n",
    "Create a list of tuples, the first element in the tuple contains the name of the estimator:\n",
    "\n",
    "<code>'scale'</code>\n",
    "\n",
    "<code>'polynomial'</code>\n",
    "\n",
    "<code>'model'</code>\n",
    "\n",
    "The second element in the tuple  contains the model constructor\n",
    "\n",
    "<code>StandardScaler()</code>\n",
    "\n",
    "<code>PolynomialFeatures(include_bias=False)</code>\n",
    "\n",
    "<code>LinearRegression()</code>\n"
   ]
  },
  {
   "cell_type": "code",
   "execution_count": 22,
   "id": "ad605461",
   "metadata": {
    "execution": {
     "iopub.execute_input": "2024-05-15T08:58:53.927343Z",
     "iopub.status.busy": "2024-05-15T08:58:53.926959Z",
     "iopub.status.idle": "2024-05-15T08:58:53.933340Z",
     "shell.execute_reply": "2024-05-15T08:58:53.931780Z"
    },
    "papermill": {
     "duration": 0.031182,
     "end_time": "2024-05-15T08:58:53.935869",
     "exception": false,
     "start_time": "2024-05-15T08:58:53.904687",
     "status": "completed"
    },
    "tags": []
   },
   "outputs": [],
   "source": [
    "Input=[('scale',StandardScaler()),('polynomial', PolynomialFeatures(include_bias=False)),('model',LinearRegression())]"
   ]
  },
  {
   "cell_type": "markdown",
   "id": "7dc1d465",
   "metadata": {
    "papermill": {
     "duration": 0.020696,
     "end_time": "2024-05-15T08:58:53.978198",
     "exception": false,
     "start_time": "2024-05-15T08:58:53.957502",
     "status": "completed"
    },
    "tags": []
   },
   "source": [
    "### Question 8\n",
    "\n",
    "Use the list to create a pipeline object to predict the 'price', fit the object using the features in the list <code>features</code>, and calculate the R^2. Take a screenshot of your code and the value of the R^2. You will need to submit it for the final project.\n"
   ]
  },
  {
   "cell_type": "code",
   "execution_count": 23,
   "id": "0b7741f7",
   "metadata": {
    "execution": {
     "iopub.execute_input": "2024-05-15T08:58:54.023466Z",
     "iopub.status.busy": "2024-05-15T08:58:54.022477Z",
     "iopub.status.idle": "2024-05-15T08:58:54.269935Z",
     "shell.execute_reply": "2024-05-15T08:58:54.268180Z"
    },
    "papermill": {
     "duration": 0.27497,
     "end_time": "2024-05-15T08:58:54.273994",
     "exception": false,
     "start_time": "2024-05-15T08:58:53.999024",
     "status": "completed"
    },
    "tags": []
   },
   "outputs": [
    {
     "data": {
      "text/plain": [
       "0.7513409118896031"
      ]
     },
     "execution_count": 23,
     "metadata": {},
     "output_type": "execute_result"
    }
   ],
   "source": [
    "#Enter Your Code, Execute and take the Screenshot\n",
    "pipe=Pipeline(Input)\n",
    "pipe\n",
    "pipe.fit(df[features],df['price'])\n",
    "pipe.score(df[features],df['price'])"
   ]
  },
  {
   "cell_type": "markdown",
   "id": "0b9f51c3",
   "metadata": {
    "papermill": {
     "duration": 0.045375,
     "end_time": "2024-05-15T08:58:54.371819",
     "exception": false,
     "start_time": "2024-05-15T08:58:54.326444",
     "status": "completed"
    },
    "tags": []
   },
   "source": [
    "# Module 5: Model Evaluation and Refinement\n"
   ]
  },
  {
   "cell_type": "markdown",
   "id": "8ed3afb5",
   "metadata": {
    "papermill": {
     "duration": 0.021389,
     "end_time": "2024-05-15T08:58:54.414374",
     "exception": false,
     "start_time": "2024-05-15T08:58:54.392985",
     "status": "completed"
    },
    "tags": []
   },
   "source": [
    "Import the necessary modules:\n"
   ]
  },
  {
   "cell_type": "code",
   "execution_count": 24,
   "id": "67f99fd3",
   "metadata": {
    "execution": {
     "iopub.execute_input": "2024-05-15T08:58:54.458849Z",
     "iopub.status.busy": "2024-05-15T08:58:54.458425Z",
     "iopub.status.idle": "2024-05-15T08:58:54.464835Z",
     "shell.execute_reply": "2024-05-15T08:58:54.463709Z"
    },
    "papermill": {
     "duration": 0.032191,
     "end_time": "2024-05-15T08:58:54.468018",
     "exception": false,
     "start_time": "2024-05-15T08:58:54.435827",
     "status": "completed"
    },
    "tags": []
   },
   "outputs": [
    {
     "name": "stdout",
     "output_type": "stream",
     "text": [
      "done\n"
     ]
    }
   ],
   "source": [
    "from sklearn.model_selection import cross_val_score\n",
    "from sklearn.model_selection import train_test_split\n",
    "print(\"done\")"
   ]
  },
  {
   "cell_type": "markdown",
   "id": "783cbb73",
   "metadata": {
    "papermill": {
     "duration": 0.026126,
     "end_time": "2024-05-15T08:58:54.519312",
     "exception": false,
     "start_time": "2024-05-15T08:58:54.493186",
     "status": "completed"
    },
    "tags": []
   },
   "source": [
    "We will split the data into training and testing sets:\n"
   ]
  },
  {
   "cell_type": "code",
   "execution_count": 25,
   "id": "9fe7dbdd",
   "metadata": {
    "execution": {
     "iopub.execute_input": "2024-05-15T08:58:54.566551Z",
     "iopub.status.busy": "2024-05-15T08:58:54.565733Z",
     "iopub.status.idle": "2024-05-15T08:58:54.580190Z",
     "shell.execute_reply": "2024-05-15T08:58:54.579028Z"
    },
    "papermill": {
     "duration": 0.041895,
     "end_time": "2024-05-15T08:58:54.582779",
     "exception": false,
     "start_time": "2024-05-15T08:58:54.540884",
     "status": "completed"
    },
    "tags": []
   },
   "outputs": [
    {
     "name": "stdout",
     "output_type": "stream",
     "text": [
      "number of test samples: 3242\n",
      "number of training samples: 18371\n"
     ]
    }
   ],
   "source": [
    "features =[\"floors\", \"waterfront\",\"lat\" ,\"bedrooms\" ,\"sqft_basement\" ,\"view\" ,\"bathrooms\",\"sqft_living15\",\"sqft_above\",\"grade\",\"sqft_living\"]    \n",
    "X = df[features]\n",
    "Y = df['price']\n",
    "\n",
    "x_train, x_test, y_train, y_test = train_test_split(X, Y, test_size=0.15, random_state=1)\n",
    "\n",
    "\n",
    "print(\"number of test samples:\", x_test.shape[0])\n",
    "print(\"number of training samples:\",x_train.shape[0])"
   ]
  },
  {
   "cell_type": "markdown",
   "id": "e97eae4f",
   "metadata": {
    "papermill": {
     "duration": 0.021005,
     "end_time": "2024-05-15T08:58:54.625212",
     "exception": false,
     "start_time": "2024-05-15T08:58:54.604207",
     "status": "completed"
    },
    "tags": []
   },
   "source": [
    "### Question 9\n",
    "\n",
    "Create and fit a Ridge regression object using the training data, set the regularization parameter to 0.1, and calculate the R^2 using the test data. Take a screenshot of your code and the value of the R^2. You will need to submit it for the final project.\n"
   ]
  },
  {
   "cell_type": "code",
   "execution_count": 26,
   "id": "48b63fdb",
   "metadata": {
    "execution": {
     "iopub.execute_input": "2024-05-15T08:58:54.669892Z",
     "iopub.status.busy": "2024-05-15T08:58:54.669459Z",
     "iopub.status.idle": "2024-05-15T08:58:54.674121Z",
     "shell.execute_reply": "2024-05-15T08:58:54.673182Z"
    },
    "papermill": {
     "duration": 0.030186,
     "end_time": "2024-05-15T08:58:54.676680",
     "exception": false,
     "start_time": "2024-05-15T08:58:54.646494",
     "status": "completed"
    },
    "tags": []
   },
   "outputs": [],
   "source": [
    "from sklearn.linear_model import Ridge"
   ]
  },
  {
   "cell_type": "code",
   "execution_count": 27,
   "id": "58cede53",
   "metadata": {
    "execution": {
     "iopub.execute_input": "2024-05-15T08:58:54.723866Z",
     "iopub.status.busy": "2024-05-15T08:58:54.723442Z",
     "iopub.status.idle": "2024-05-15T08:58:54.748965Z",
     "shell.execute_reply": "2024-05-15T08:58:54.747418Z"
    },
    "papermill": {
     "duration": 0.052798,
     "end_time": "2024-05-15T08:58:54.753201",
     "exception": false,
     "start_time": "2024-05-15T08:58:54.700403",
     "status": "completed"
    },
    "tags": []
   },
   "outputs": [
    {
     "data": {
      "text/plain": [
       "0.6478759163939113"
      ]
     },
     "execution_count": 27,
     "metadata": {},
     "output_type": "execute_result"
    }
   ],
   "source": [
    "#Enter Your Code, Execute and take the Screenshot\n",
    "RidgeModel = Ridge(alpha = 0.1)\n",
    "RidgeModel.fit(x_train, y_train)\n",
    "RidgeModel.score(x_test, y_test)"
   ]
  },
  {
   "cell_type": "markdown",
   "id": "add748a1",
   "metadata": {
    "papermill": {
     "duration": 0.045674,
     "end_time": "2024-05-15T08:58:54.847367",
     "exception": false,
     "start_time": "2024-05-15T08:58:54.801693",
     "status": "completed"
    },
    "tags": []
   },
   "source": [
    "### Question 10\n",
    "\n",
    "Perform a second order polynomial transform on both the training data and testing data. Create and fit a Ridge regression object using the training data, set the regularisation parameter to 0.1, and calculate the R^2 utilising the test data provided. Take a screenshot of your code and the R^2. You will need to submit it for the final project.\n"
   ]
  },
  {
   "cell_type": "code",
   "execution_count": 28,
   "id": "fc01b9c8",
   "metadata": {
    "execution": {
     "iopub.execute_input": "2024-05-15T08:58:54.900950Z",
     "iopub.status.busy": "2024-05-15T08:58:54.900536Z",
     "iopub.status.idle": "2024-05-15T08:58:55.119007Z",
     "shell.execute_reply": "2024-05-15T08:58:55.117883Z"
    },
    "papermill": {
     "duration": 0.24499,
     "end_time": "2024-05-15T08:58:55.122823",
     "exception": false,
     "start_time": "2024-05-15T08:58:54.877833",
     "status": "completed"
    },
    "tags": []
   },
   "outputs": [
    {
     "name": "stdout",
     "output_type": "stream",
     "text": [
      "R^2 for second order polynomial transform the Training data by fitting a Ridge regression\n",
      "0.7418167438710657\n"
     ]
    }
   ],
   "source": [
    "#Enter Your Code, Execute and take the Screenshot\n",
    "polylm = PolynomialFeatures(degree=2)\n",
    "\n",
    "x_train_polylm=polylm.fit_transform(x_train[['floors', 'waterfront','lat' ,'bedrooms' ,'sqft_basement' ,'view' ,'bathrooms','sqft_living15','sqft_above','grade','sqft_living']])\n",
    "\n",
    "RidgeModel=Ridge(alpha=0.1)\n",
    "RidgeModel.fit(x_train_polylm, y_train)\n",
    "\n",
    "print('R^2 for second order polynomial transform the Training data by fitting a Ridge regression')\n",
    "score = RidgeModel.score(x_train_polylm, y_train)\n",
    "print(score)"
   ]
  },
  {
   "cell_type": "markdown",
   "id": "0a64fed8",
   "metadata": {
    "papermill": {
     "duration": 0.037486,
     "end_time": "2024-05-15T08:58:55.248287",
     "exception": false,
     "start_time": "2024-05-15T08:58:55.210801",
     "status": "completed"
    },
    "tags": []
   },
   "source": [
    "<p>Once you complete your notebook you will have to share it. You can download the notebook by navigating to \"File\" and clicking on \"Download\" button.\n",
    "        <p><img width=\"600\" src=\"https://cf-courses-data.s3.us.cloud-object-storage.appdomain.cloud/IBMDeveloperSkillsNetwork-DA0101EN-SkillsNetwork/labs/Module%206/images/DA0101EN_FA_Image21.png\" alt=\"share notebook\" style=\"display: block; margin-left: auto; margin-right: auto;\"></p>\n",
    "        <p></p>\n",
    "<p>This will save the (.ipynb) file on your computer. Once saved, you can upload this file in the \"My Submission\" tab, of the \"Peer-graded Assignment\" section.  \n",
    "          \n"
   ]
  },
  {
   "cell_type": "markdown",
   "id": "d166509e",
   "metadata": {
    "papermill": {
     "duration": 0.021277,
     "end_time": "2024-05-15T08:58:55.291487",
     "exception": false,
     "start_time": "2024-05-15T08:58:55.270210",
     "status": "completed"
    },
    "tags": []
   },
   "source": [
    "<h2>About the Authors:</h2> \n",
    "\n",
    "<a href=\"https://www.linkedin.com/in/joseph-s-50398b136/?utm_medium=Exinfluencer&utm_source=Exinfluencer&utm_content=000026UJ&utm_term=10006555&utm_id=NA-SkillsNetwork-Channel-SkillsNetworkCoursesIBMDeveloperSkillsNetworkDA0101ENSkillsNetwork20235326-2022-01-01\">Joseph Santarcangelo</a> has a PhD in Electrical Engineering, his research focused on using machine learning, signal processing, and computer vision to determine how videos impact human cognition. Joseph has been working for IBM since he completed his PhD.\n"
   ]
  },
  {
   "cell_type": "markdown",
   "id": "6f8164da",
   "metadata": {
    "papermill": {
     "duration": 0.021509,
     "end_time": "2024-05-15T08:58:55.335004",
     "exception": false,
     "start_time": "2024-05-15T08:58:55.313495",
     "status": "completed"
    },
    "tags": []
   },
   "source": [
    "Other contributors: <a href=\"https://www.linkedin.com/in/michelleccarey/?utm_medium=Exinfluencer&utm_source=Exinfluencer&utm_content=000026UJ&utm_term=10006555&utm_id=NA-SkillsNetwork-Channel-SkillsNetworkCoursesIBMDeveloperSkillsNetworkDA0101ENSkillsNetwork20235326-2022-01-01\">Michelle Carey</a>, <a href=\"https://www.linkedin.com/in/jiahui-mavis-zhou-a4537814a?utm_medium=Exinfluencer&utm_source=Exinfluencer&utm_content=000026UJ&utm_term=10006555&utm_id=NA-SkillsNetwork-Channel-SkillsNetworkCoursesIBMDeveloperSkillsNetworkDA0101ENSkillsNetwork20235326-2022-01-01\">Mavis Zhou</a>\n"
   ]
  },
  {
   "cell_type": "markdown",
   "id": "64e60b86",
   "metadata": {
    "papermill": {
     "duration": 0.021333,
     "end_time": "2024-05-15T08:58:55.378201",
     "exception": false,
     "start_time": "2024-05-15T08:58:55.356868",
     "status": "completed"
    },
    "tags": []
   },
   "source": [
    "## Change Log\n",
    "\n",
    "| Date (YYYY-MM-DD) | Version | Changed By      | Change Description                           |\n",
    "| ----------------- | ------- | --------------- | -------------------------------------------- |\n",
    "| 2020-12-01        | 2.2     | Aije Egwaikhide | Coverted Data describtion from text to table |\n",
    "| 2020-10-06        | 2.1     | Lakshmi Holla   | Changed markdown instruction of Question1    |\n",
    "| 2020-08-27        | 2.0     | Malika Singla   | Added lab to GitLab                          |\n",
    "| 2022-06-13        | 2.3     | Svitlana Kramar | Updated Notebook sharing instructions        |\n",
    "| <hr>              |         |                 |                                              |\n",
    "\n",
    "## <h3 align=\"center\"> © IBM Corporation 2020. All rights reserved. <h3/>\n",
    "\n",
    "<p>\n"
   ]
  },
  {
   "cell_type": "code",
   "execution_count": null,
   "id": "cd5b2d40",
   "metadata": {
    "papermill": {
     "duration": 0.021367,
     "end_time": "2024-05-15T08:58:55.421243",
     "exception": false,
     "start_time": "2024-05-15T08:58:55.399876",
     "status": "completed"
    },
    "tags": []
   },
   "outputs": [],
   "source": []
  }
 ],
 "metadata": {
  "kaggle": {
   "accelerator": "none",
   "dataSources": [
    {
     "datasetId": 5011460,
     "sourceId": 8418556,
     "sourceType": "datasetVersion"
    }
   ],
   "dockerImageVersionId": 30698,
   "isGpuEnabled": false,
   "isInternetEnabled": true,
   "language": "python",
   "sourceType": "notebook"
  },
  "kernelspec": {
   "display_name": "Python 3",
   "language": "python",
   "name": "python3"
  },
  "language_info": {
   "codemirror_mode": {
    "name": "ipython",
    "version": 3
   },
   "file_extension": ".py",
   "mimetype": "text/x-python",
   "name": "python",
   "nbconvert_exporter": "python",
   "pygments_lexer": "ipython3",
   "version": "3.10.13"
  },
  "papermill": {
   "default_parameters": {},
   "duration": 11.984296,
   "end_time": "2024-05-15T08:58:56.064590",
   "environment_variables": {},
   "exception": null,
   "input_path": "__notebook__.ipynb",
   "output_path": "__notebook__.ipynb",
   "parameters": {},
   "start_time": "2024-05-15T08:58:44.080294",
   "version": "2.5.0"
  }
 },
 "nbformat": 4,
 "nbformat_minor": 5
}
